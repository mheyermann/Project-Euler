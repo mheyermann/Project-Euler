{
 "cells": [
  {
   "cell_type": "markdown",
   "id": "1764dfb0-089c-4e05-989a-e75d03b6dc37",
   "metadata": {},
   "source": [
    "# Project Euler #\n",
    "\n",
    "Here I work on the solutions of problems presented in Project Euler, more information in the following __[link](https://projecteuler.net/archives)__\n",
    "\n",
    "## Problem 1: *Multiples of 3 or 5* ##"
   ]
  },
  {
   "cell_type": "code",
   "execution_count": 33,
   "id": "851a55e8-b461-4456-a9b3-bb7876f6c37e",
   "metadata": {},
   "outputs": [
    {
     "name": "stdout",
     "output_type": "stream",
     "text": [
      "The sum of all the multiples of 3 or 5 below 1000 is 233168\n"
     ]
    }
   ],
   "source": [
    "n = 1000\n",
    "sum = 8 #We start from 6, so 3 and 5 are already considered\n",
    "for i in range(6,n):\n",
    "    if i%3 == 0 or i%5 == 0:\n",
    "        sum = sum + i\n",
    "print(\"The sum of all the multiples of 3 or 5 below\", n,\"is\", sum)  "
   ]
  },
  {
   "cell_type": "markdown",
   "id": "2e49dfc3-48be-4348-937a-9c86f5f42407",
   "metadata": {},
   "source": [
    "## Problem 2: *Even Fibonacci Numbers* ##"
   ]
  },
  {
   "cell_type": "code",
   "execution_count": 31,
   "id": "d4c526b9-e16b-42f4-b67f-331898ad80a9",
   "metadata": {},
   "outputs": [
    {
     "name": "stdout",
     "output_type": "stream",
     "text": [
      "The sum of the even-valued terms of the Fibonacci sequence whose values do not exceed four million is 4613732\n"
     ]
    }
   ],
   "source": [
    "sum = 1 #start with number 1, first number of the series\n",
    "aux = 1\n",
    "fib = 1\n",
    "while fib <= 4000000:\n",
    "    if fib % 2 != 0: #check that the number is even\n",
    "        sum = sum + fib #add the value to the sum of even fibonacci numbers\n",
    "    aux, fib = fib, fib + aux #Define next fib number and previous one    \n",
    "print(\"The sum of the even-valued terms of the Fibonacci sequence whose values do not exceed four million is\", sum)"
   ]
  },
  {
   "cell_type": "markdown",
   "id": "d3132ade-b3ce-4051-9c27-0df802bc4229",
   "metadata": {},
   "source": [
    "## Problem 3: *Largest Prime Factor* ##"
   ]
  },
  {
   "cell_type": "code",
   "execution_count": 30,
   "id": "5fedc1c3-8714-4b1b-9ce8-8c1eddf75fad",
   "metadata": {},
   "outputs": [
    {
     "name": "stdout",
     "output_type": "stream",
     "text": [
      "The largest prime factor of the number 600851475143 is: 6857\n"
     ]
    }
   ],
   "source": [
    "#We define a function that return True if the number is prime and False if it isn't\n",
    "def is_prime(x):\n",
    "    for i in range(2,round(x**(1/2))+1): #Until the square root of x according the Trial Division Test: https://www.wikihow.com/Check-if-a-Number-Is-Prime\n",
    "        if x % i == 0:\n",
    "            return False\n",
    "    return True\n",
    "\n",
    "#Define the number, loop throught the range until we find the max prime that is a factor of n\n",
    "n = 600851475143\n",
    "l_prime = 2\n",
    "for i in range(3, round(n**(1/2))+1):\n",
    "    if is_prime(i):\n",
    "        if n % i == 0:\n",
    "            l_prime = i        \n",
    "print(\"The largest prime factor of the number\", n, \"is:\",l_prime)"
   ]
  },
  {
   "cell_type": "markdown",
   "id": "b763c798-d62d-48cc-8cbd-9511fd5bb97a",
   "metadata": {},
   "source": [
    "## Problem 4: *Largest Palindrome Product* ##"
   ]
  },
  {
   "cell_type": "code",
   "execution_count": 29,
   "id": "d265b4c3-8d59-4fc8-85c5-16959a740792",
   "metadata": {},
   "outputs": [
    {
     "name": "stdout",
     "output_type": "stream",
     "text": [
      "The largest palindrome made from the product of two 3-digit numbers is 906609 = 913 x 993\n"
     ]
    }
   ],
   "source": [
    "# We define a function to see if the number is a palindrome.\n",
    "def is_pal(x):\n",
    "    s_x= str(x)\n",
    "    for i in range(0, len(s_x)//2):\n",
    "        if s_x[i] != s_x[-i-1]:\n",
    "            return False\n",
    "    return True\n",
    "\n",
    "pal = 9009 #We start with the largest palindrome made from the product of two 2-digits numbers\n",
    "auxi = 0 #To save the 1st 3-digit number\n",
    "auxj = 0 #To save the 2nd 3-digit number\n",
    "for i in range(100,1000):\n",
    "    for j in range(i,1000):\n",
    "        num= i*j\n",
    "        if is_pal(num) and num > pal:\n",
    "            pal = num\n",
    "            auxi = i\n",
    "            auxj = j\n",
    "print(\"The largest palindrome made from the product of two 3-digit numbers is\",pal,\"=\", auxi,\"x\", auxj)"
   ]
  },
  {
   "cell_type": "markdown",
   "id": "232294db-82a6-4b18-8ee5-d9e8f4ef928e",
   "metadata": {},
   "source": [
    "## Problem 5: *Smallest Multiple* ##"
   ]
  },
  {
   "cell_type": "code",
   "execution_count": null,
   "id": "7c8fe371-aab7-4790-8999-b770e4abae14",
   "metadata": {},
   "outputs": [],
   "source": []
  }
 ],
 "metadata": {
  "kernelspec": {
   "display_name": "Python 3 (ipykernel)",
   "language": "python",
   "name": "python3"
  },
  "language_info": {
   "codemirror_mode": {
    "name": "ipython",
    "version": 3
   },
   "file_extension": ".py",
   "mimetype": "text/x-python",
   "name": "python",
   "nbconvert_exporter": "python",
   "pygments_lexer": "ipython3",
   "version": "3.11.7"
  }
 },
 "nbformat": 4,
 "nbformat_minor": 5
}

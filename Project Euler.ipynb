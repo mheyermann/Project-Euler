{
 "cells": [
  {
   "cell_type": "markdown",
   "id": "1764dfb0-089c-4e05-989a-e75d03b6dc37",
   "metadata": {},
   "source": [
    "# Project Euler #\n",
    "\n",
    "Here I work on the solutions of problems presented in Project Euler, more information in the following __[link](https://projecteuler.net/archives)__ <br>\n",
    "***\n",
    "\n",
    "## Problem 1: *Multiples of 3 or 5* ##"
   ]
  },
  {
   "cell_type": "code",
   "execution_count": 1,
   "id": "851a55e8-b461-4456-a9b3-bb7876f6c37e",
   "metadata": {},
   "outputs": [
    {
     "name": "stdout",
     "output_type": "stream",
     "text": [
      "The sum of all the multiples of 3 or 5 below 1000 is 233168\n"
     ]
    }
   ],
   "source": [
    "%reset -f\n",
    "n = 1000\n",
    "sum = 8 #We start from 6, so 3 and 5 are already considered\n",
    "for i in range(6,n):\n",
    "    if i%3 == 0 or i%5 == 0:\n",
    "        sum = sum + i\n",
    "print(\"The sum of all the multiples of 3 or 5 below\", n,\"is\", sum)  "
   ]
  },
  {
   "cell_type": "markdown",
   "id": "2e49dfc3-48be-4348-937a-9c86f5f42407",
   "metadata": {},
   "source": [
    "## Problem 2: *Even Fibonacci Numbers* ##"
   ]
  },
  {
   "cell_type": "code",
   "execution_count": 2,
   "id": "d4c526b9-e16b-42f4-b67f-331898ad80a9",
   "metadata": {},
   "outputs": [
    {
     "name": "stdout",
     "output_type": "stream",
     "text": [
      "The sum of the even-valued terms of the Fibonacci sequence whose values do not exceed four million is 4613732\n"
     ]
    }
   ],
   "source": [
    "%reset -f\n",
    "sum = 1 #start with number 1, first number of the series\n",
    "aux = 1\n",
    "fib = 1\n",
    "while fib <= 4000000:\n",
    "    if fib % 2 != 0: #check that the number is even\n",
    "        sum = sum + fib #add the value to the sum of even fibonacci numbers\n",
    "    aux, fib = fib, fib + aux #Define next fib number and previous one    \n",
    "print(\"The sum of the even-valued terms of the Fibonacci sequence whose values do not exceed four million is\", sum)"
   ]
  },
  {
   "cell_type": "markdown",
   "id": "d3132ade-b3ce-4051-9c27-0df802bc4229",
   "metadata": {},
   "source": [
    "## Problem 3: *Largest Prime Factor* ##"
   ]
  },
  {
   "cell_type": "code",
   "execution_count": 3,
   "id": "5fedc1c3-8714-4b1b-9ce8-8c1eddf75fad",
   "metadata": {},
   "outputs": [
    {
     "name": "stdout",
     "output_type": "stream",
     "text": [
      "The largest prime factor of the number 600851475143 is: 6857\n"
     ]
    }
   ],
   "source": [
    "%reset -f\n",
    "#We define a function that return True if the number is prime and False if it isn't\n",
    "def is_prime(x):\n",
    "    for i in range(2,round(x**(1/2))+1): #Until the square root of x according the Trial Division Test: https://www.wikihow.com/Check-if-a-Number-Is-Prime\n",
    "        if x % i == 0:\n",
    "            return False\n",
    "    return True\n",
    "\n",
    "#Define the number, loop throught the range until we find the max prime that is a factor of n\n",
    "n = 600851475143\n",
    "l_prime = 2\n",
    "for i in range(3, round(n**(1/2))+1):\n",
    "    if is_prime(i):\n",
    "        if n % i == 0:\n",
    "            l_prime = i        \n",
    "print(\"The largest prime factor of the number\", n, \"is:\",l_prime)"
   ]
  },
  {
   "cell_type": "markdown",
   "id": "b763c798-d62d-48cc-8cbd-9511fd5bb97a",
   "metadata": {},
   "source": [
    "## Problem 4: *Largest Palindrome Product* ##"
   ]
  },
  {
   "cell_type": "code",
   "execution_count": 4,
   "id": "d265b4c3-8d59-4fc8-85c5-16959a740792",
   "metadata": {},
   "outputs": [
    {
     "name": "stdout",
     "output_type": "stream",
     "text": [
      "The largest palindrome made from the product of two 3-digit numbers is 906609 = 913 x 993\n"
     ]
    }
   ],
   "source": [
    "%reset -f\n",
    "# We define a function to see if the number is a palindrome.\n",
    "def is_pal(x):\n",
    "    s_x= str(x)\n",
    "    for i in range(0, len(s_x)//2):\n",
    "        if s_x[i] != s_x[-i-1]:\n",
    "            return False\n",
    "    return True\n",
    "\n",
    "pal = 9009 #We start with the largest palindrome made from the product of two 2-digits numbers\n",
    "auxi = 0 #To save the 1st 3-digit number\n",
    "auxj = 0 #To save the 2nd 3-digit number\n",
    "for i in range(100,1000):\n",
    "    for j in range(i,1000):\n",
    "        num= i*j\n",
    "        if is_pal(num) and num > pal:\n",
    "            pal = num\n",
    "            auxi = i\n",
    "            auxj = j\n",
    "print(\"The largest palindrome made from the product of two 3-digit numbers is\",pal,\"=\", auxi,\"x\", auxj)"
   ]
  },
  {
   "cell_type": "markdown",
   "id": "232294db-82a6-4b18-8ee5-d9e8f4ef928e",
   "metadata": {},
   "source": [
    "## Problem 5: *Smallest Multiple* ##"
   ]
  },
  {
   "cell_type": "code",
   "execution_count": 11,
   "id": "7c8fe371-aab7-4790-8999-b770e4abae14",
   "metadata": {},
   "outputs": [
    {
     "name": "stdout",
     "output_type": "stream",
     "text": [
      "The smallest positive number that is evenly divisible by all of the numbers from 1 to 20 is 232792560\n"
     ]
    }
   ],
   "source": [
    "%reset -f\n",
    "n = 20 # We define until which number we want to divide\n",
    "n_list = []\n",
    "for i in range(2, n+1):\n",
    "    n_list.append(i) # We create a list of the numbers we are using to divide\n",
    "stop = False\n",
    "x = 2520\n",
    "while stop == False:\n",
    "    x += 2520 # To repeat again the 10 [0] remainders in a row, we need another 2520 iterations\n",
    "    rem = [x % i for i in n_list]\n",
    "    if sum(rem)==0:\n",
    "        stop = True\n",
    "print(\"The smallest positive number that is evenly divisible by all of the numbers from 1 to 20 is\",x)"
   ]
  },
  {
   "cell_type": "markdown",
   "id": "b384aa2d-b057-4c50-9d03-55daaceb082f",
   "metadata": {},
   "source": [
    "## Problem 6: *Sum Square Difference* ##"
   ]
  },
  {
   "cell_type": "code",
   "execution_count": 6,
   "id": "99488fad-2cdf-4a5a-80f1-62613347bbf4",
   "metadata": {},
   "outputs": [
    {
     "name": "stdout",
     "output_type": "stream",
     "text": [
      "The difference between the sum of the squares of the first one hundred natural numbers and the square of the sum is: 25164150\n"
     ]
    }
   ],
   "source": [
    "%reset -f\n",
    "n = 100 #We define how many numbers\n",
    "n_list = []\n",
    "for i in range(1, n+1):\n",
    "    n_list.append(i) # We create a list of the 1st 'n' natural numbers\n",
    "n_squares = [i**2 for i in n_list] #We create a list of the squares\n",
    "diff = sum(n_list)**2-sum(n_squares)\n",
    "print(\"The difference between the sum of the squares of the first one hundred natural numbers and the square of the sum is:\",diff)"
   ]
  },
  {
   "cell_type": "markdown",
   "id": "1be97c74-d67f-41c7-b283-676debad3615",
   "metadata": {},
   "source": [
    "## Problem 7: *10,001st Prime* #"
   ]
  },
  {
   "cell_type": "code",
   "execution_count": 7,
   "id": "e9f08edb-a549-4889-8210-3f7e4686fde4",
   "metadata": {},
   "outputs": [
    {
     "name": "stdout",
     "output_type": "stream",
     "text": [
      "The 10,001 prime number is 104743\n"
     ]
    }
   ],
   "source": [
    "%reset -f\n",
    "# We use the is_prime() function from Problem 3\n",
    "def is_prime(x):\n",
    "    for i in range(2,round(x**(1/2))+1): #Until the square root of x according the Trial Division Test: https://www.wikihow.com/Check-if-a-Number-Is-Prime\n",
    "        if x % i == 0:\n",
    "            return False\n",
    "    return True\n",
    "    \n",
    "prime_list = [2]\n",
    "n = 10001 # Number of the n prime we want\n",
    "i = 3\n",
    "while len(prime_list) < n:\n",
    "    if is_prime(i):\n",
    "        prime_list.append(i)\n",
    "    i+=2\n",
    "print(\"The 10,001 prime number is\",prime_list[-1])"
   ]
  },
  {
   "cell_type": "markdown",
   "id": "73c67710-061c-4e27-a9af-ef56defd3e7c",
   "metadata": {},
   "source": [
    "## Problem 8: *Largest Product in a Series* #"
   ]
  },
  {
   "cell_type": "code",
   "execution_count": 8,
   "id": "569b8ef0-a27f-4951-9d28-a6d59673fd8a",
   "metadata": {},
   "outputs": [
    {
     "name": "stdout",
     "output_type": "stream",
     "text": [
      "The thirteen adjacent digits in the 1000-digit number that have the greatest product are [5, 5, 7, 6, 6, 8, 9, 6, 6, 4, 8, 9, 5] = 23514624000\n"
     ]
    }
   ],
   "source": [
    "%reset -f\n",
    "t_number = \"\"\"\n",
    "            73167176531330624919225119674426574742355349194934\n",
    "            96983520312774506326239578318016984801869478851843\n",
    "            85861560789112949495459501737958331952853208805511\n",
    "            12540698747158523863050715693290963295227443043557\n",
    "            66896648950445244523161731856403098711121722383113\n",
    "            62229893423380308135336276614282806444486645238749\n",
    "            30358907296290491560440772390713810515859307960866\n",
    "            70172427121883998797908792274921901699720888093776\n",
    "            65727333001053367881220235421809751254540594752243\n",
    "            52584907711670556013604839586446706324415722155397\n",
    "            53697817977846174064955149290862569321978468622482\n",
    "            83972241375657056057490261407972968652414535100474\n",
    "            82166370484403199890008895243450658541227588666881\n",
    "            16427171479924442928230863465674813919123162824586\n",
    "            17866458359124566529476545682848912883142607690042\n",
    "            24219022671055626321111109370544217506941658960408\n",
    "            07198403850962455444362981230987879927244284909188\n",
    "            84580156166097919133875499200524063689912560717606\n",
    "            05886116467109405077541002256983155200055935729725\n",
    "            71636269561882670428252483600823257530420752963450\"\"\"\n",
    "# We format the number so the indentations and break lines are not part of the string (visually it looks better like a square)\n",
    "t_number = t_number.replace(\" \", \"\").replace(\"\\n\", \"\")\n",
    "n = 13 # Amount of adjacent digits to consider\n",
    "prod = 1 \n",
    "\n",
    "numbers = []\n",
    "for i in range(0,len(t_number)-13):\n",
    "    x = 1\n",
    "    numbers_aux = []\n",
    "    for j in range(0,13):\n",
    "        x *= int(t_number[j+i])\n",
    "        numbers_aux.append(t_number[j+i])\n",
    "    if x > prod:\n",
    "        prod = x\n",
    "        numbers = list(map(int, numbers_aux))\n",
    "print(\"The thirteen adjacent digits in the 1000-digit number that have the greatest product are\",numbers,\"=\",prod)"
   ]
  },
  {
   "cell_type": "markdown",
   "id": "b4f3ed05-e1bd-43f2-8aa5-312b171f6f1f",
   "metadata": {},
   "source": [
    "## Problem 9: *Special Pythagorean Triplet* #"
   ]
  },
  {
   "cell_type": "code",
   "execution_count": 9,
   "id": "846d19f4-b1a4-4879-8f58-63008d4af1f7",
   "metadata": {},
   "outputs": [
    {
     "name": "stdout",
     "output_type": "stream",
     "text": [
      "The product abc, where a, b, c are Pythagorean triplet for which a + b + c = 1000 is: 31875000 - a = 200 b = 375 c = 425\n"
     ]
    }
   ],
   "source": [
    "%reset -f\n",
    "n=1000\n",
    "# We define a cycle where c > b > a\n",
    "for a in range (1,n):\n",
    "    for b in range (a+1,n):\n",
    "        for c in range (b+1,n):\n",
    "            if (a**2+b**2==c**2) and (a+b+c==n):\n",
    "                prod = a*b*c\n",
    "                print(\"The product abc, where a, b, c are Pythagorean triplet for which a + b + c =\", n, \"is:\", prod, \"|\", \"a =\", a, \"b =\", b, \"c =\", c)\n",
    "                break"
   ]
  },
  {
   "cell_type": "markdown",
   "id": "a0f9666b-18f7-44f3-bc69-9bf03c7edb0c",
   "metadata": {},
   "source": [
    "## Problem 10: *Summation of Primes* #"
   ]
  },
  {
   "cell_type": "code",
   "execution_count": 16,
   "id": "8fe7cc27-08b6-4958-8f4e-0e1a6cb88980",
   "metadata": {},
   "outputs": [
    {
     "name": "stdout",
     "output_type": "stream",
     "text": [
      "The sum of the primes below 2000000 is: 142913828922\n"
     ]
    }
   ],
   "source": [
    "%reset -f\n",
    "# We use the is_prime() function from Problem 3\n",
    "def is_prime(x):\n",
    "    for i in range(2,round(x**(1/2))+1): #Until the square root of x according the Trial Division Test: https://www.wikihow.com/Check-if-a-Number-Is-Prime\n",
    "        if x % i == 0:\n",
    "            return False\n",
    "    return True\n",
    "\n",
    "n = 2000000 # Number of primes below n    \n",
    "prime_list = [2]\n",
    "i = 3\n",
    "while i < n:\n",
    "    if is_prime(i):\n",
    "        prime_list.append(i)\n",
    "    i+=2\n",
    "print(\"The sum of the primes below\", n, \"is:\", sum(prime_list))"
   ]
  },
  {
   "cell_type": "markdown",
   "id": "cdb3617f-aad3-48a0-8706-4dd6ed1d5008",
   "metadata": {},
   "source": [
    "## Problem 11: *Largest Product in a Grid* #"
   ]
  },
  {
   "cell_type": "code",
   "execution_count": 11,
   "id": "ed4e0b39-7c55-4071-8951-4a01111954b5",
   "metadata": {},
   "outputs": [
    {
     "name": "stdout",
     "output_type": "stream",
     "text": [
      "The greatest product of four adjacent numbers in horizontal, vertical or diagonal is: 89 x 94 x 97 x 87 = 70600674\n"
     ]
    }
   ],
   "source": [
    "%reset -f\n",
    "grid = [ [8, 2, 22, 97, 38, 15, 0, 40, 0, 75, 4, 5, 7, 78, 52, 12, 50, 77, 91, 8],\n",
    "        [49, 49, 99, 40, 17, 81, 18, 57, 60, 87, 17, 40, 98, 43, 69, 48, 4, 56, 62, 0],\n",
    "        [81, 49, 31, 73, 55, 79, 14, 29, 93, 71, 40, 67, 53, 88, 30, 3, 49, 13, 36, 65],\n",
    "        [52, 70, 95, 23, 4, 60, 11, 42, 69, 24, 68, 56, 1, 32, 56, 71, 37, 2, 36, 91],\n",
    "        [22, 31, 16, 71, 51, 67, 63, 89, 41, 92, 36, 54, 22, 40, 40, 28, 66, 33, 13, 80],\n",
    "        [24, 47, 32, 60, 99, 3, 45, 2, 44, 75, 33, 53, 78, 36, 84, 20, 35, 17, 12, 50],\n",
    "        [32, 98, 81, 28, 64, 23, 67, 10, 26, 38, 40, 67, 59, 54, 70, 66, 18, 38, 64, 70],\n",
    "        [67, 26, 20, 68, 2, 62, 12, 20, 95, 63, 94, 39, 63, 8, 40, 91, 66, 49, 94, 21],\n",
    "        [24, 55, 58, 5, 66, 73, 99, 26, 97, 17, 78, 78, 96, 83, 14, 88, 34, 89, 63, 72],\n",
    "        [21, 36, 23, 9, 75, 0, 76, 44, 20, 45, 35, 14, 0, 61, 33, 97, 34, 31, 33, 95],\n",
    "        [78, 17, 53, 28, 22, 75, 31, 67, 15, 94, 3, 80, 4, 62, 16, 14, 9, 53, 56, 92],\n",
    "        [16, 39, 5, 42, 96, 35, 31, 47, 55, 58, 88, 24, 0, 17, 54, 24, 36, 29, 85, 57],\n",
    "        [86, 56, 0, 48, 35, 71, 89, 7, 5, 44, 44, 37, 44, 60, 21, 58, 51, 54, 17, 58],\n",
    "        [19, 80, 81, 68, 5, 94, 47, 69, 28, 73, 92, 13, 86, 52, 17, 77, 4, 89, 55, 40],\n",
    "        [4, 52, 8, 83, 97, 35, 99, 16, 7, 97, 57, 32, 16, 26, 26, 79, 33, 27, 98, 66],\n",
    "        [88, 36, 68, 87, 57, 62, 20, 72, 3, 46, 33, 67, 46, 55, 12, 32, 63, 93, 53, 69],\n",
    "        [4, 42, 16, 73, 38, 25, 39, 11, 24, 94, 72, 18, 8, 46, 29, 32, 40, 62, 76, 36],\n",
    "        [20, 69, 36, 41, 72, 30, 23, 88, 34, 62, 99, 69, 82, 67, 59, 85, 74, 4, 36, 16],\n",
    "        [20, 73, 35, 29, 78, 31, 90, 1, 74, 31, 49, 71, 48, 86, 81, 16, 23, 57, 5, 54],\n",
    "        [1, 70, 54, 71, 83, 51, 54, 69, 16, 92, 33, 48, 61, 43, 52, 1, 89, 19, 67, 48]]\n",
    "prod = 0\n",
    "for i in range(0,len(grid)):\n",
    "    if i <= len(grid)-4:\n",
    "        for j in range(0,len(grid[0])):\n",
    "            if j < 4:\n",
    "                prod_v = grid[i][j]*grid[i+1][j]*grid[i+2][j]*grid[i+3][j]\n",
    "                prod_h = grid[i][j]*grid[i][j+1]*grid[i][j+2]*grid[i][j+3]\n",
    "                prod_d1 = grid[i][j]*grid[i+1][j+1]*grid[i+2][j+2]*grid[i+3][j+3]\n",
    "                prod_aux= max(prod_v,prod_h,prod_d1)\n",
    "                if prod_aux > prod:\n",
    "                    prod = prod_aux\n",
    "                    if prod_v == prod:\n",
    "                        n1, n2, n3, n4 = grid[i][j], grid[i+1][j], grid[i+2][j], grid[i+3][j]\n",
    "                    elif prod_h == prod:\n",
    "                        n1, n2, n3, n4 = grid[i][j], grid[i][j+1], grid[i][j+2], grid[i][j+3]\n",
    "                    elif prod_d1 == prod:\n",
    "                        n1, n2, n3, n4 = grid[i][j], grid[i+1][j+1], grid[i+2][j+2], grid[i+3][j+3]\n",
    "            elif j >= 4 and j <= len(grid[0])-4:\n",
    "                prod_v = grid[i][j]*grid[i+1][j]*grid[i+2][j]*grid[i+3][j]\n",
    "                prod_h = grid[i][j]*grid[i][j+1]*grid[i][j+2]*grid[i][j+3]\n",
    "                prod_d1 = grid[i][j]*grid[i+1][j+1]*grid[i+2][j+2]*grid[i+3][j+3]\n",
    "                prod_d2 = grid[i][j]*grid[i+1][j-1]*grid[i+2][j-2]*grid[i+3][j-3]\n",
    "                prod_aux= max(prod_v,prod_h,prod_d1,prod_d2)\n",
    "                if prod_aux > prod:\n",
    "                    prod = prod_aux\n",
    "                    if prod_v == prod:\n",
    "                        n1, n2, n3, n4 = grid[i][j], grid[i+1][j], grid[i+2][j], grid[i+3][j]\n",
    "                    elif prod_h == prod:\n",
    "                        n1, n2, n3, n4 = grid[i][j], grid[i][j+1], grid[i][j+2], grid[i][j+3]\n",
    "                    elif prod_d1 == prod:\n",
    "                        n1, n2, n3, n4 = grid[i][j], grid[i+1][j+1], grid[i+2][j+2], grid[i+3][j+3]\n",
    "                    elif prod_d2 == prod:\n",
    "                        n1, n2, n3, n4 = grid[i][j], grid[i+1][j-1], grid[i+2][j-2], grid[i+3][j-3]\n",
    "            elif j> len(grid[0])-4:\n",
    "                prod_v = grid[i][j]*grid[i+1][j]*grid[i+2][j]*grid[i+3][j]\n",
    "                prod_d2 = grid[i][j]*grid[i+1][j-1]*grid[i+2][j-2]*grid[i+3][j-3]\n",
    "                prod_aux= max(prod_v,prod_d2)\n",
    "                if prod_aux > prod:\n",
    "                    prod = prod_aux\n",
    "                    if prod_v == prod:\n",
    "                        n1, n2, n3, n4 = grid[i][j], grid[i+1][j], grid[i+2][j], grid[i+3][j]\n",
    "                    elif prod_d2 == prod:\n",
    "                        n1, n2, n3, n4 = grid[i][j], grid[i+1][j-1], grid[i+2][j-2], grid[i+3][j-3]\n",
    "    if i > len(grid)-4:\n",
    "        for j in range(0,len(grid[0])-4):\n",
    "            prod_h = grid[i][j]*grid[i][j+1]*grid[i][j+2]*grid[i][j+3]\n",
    "            prod_aux = prod_h\n",
    "            if prod_aux > prod:\n",
    "                prod = prod_aux\n",
    "                n1, n2, n3, n4 = grid[i][j], grid[i][j+1], grid[i][j+2], grid[i][j+3]\n",
    "print(\"The greatest product of four adjacent numbers in horizontal, vertical or diagonal is:\", n1, \"x\", n2, \"x\", n3, \"x\", n4, \"=\", prod)               "
   ]
  },
  {
   "cell_type": "code",
   "execution_count": null,
   "id": "963686e3-1be8-4781-8ac7-4410be8c0d23",
   "metadata": {},
   "outputs": [],
   "source": []
  }
 ],
 "metadata": {
  "kernelspec": {
   "display_name": "Python 3 (ipykernel)",
   "language": "python",
   "name": "python3"
  },
  "language_info": {
   "codemirror_mode": {
    "name": "ipython",
    "version": 3
   },
   "file_extension": ".py",
   "mimetype": "text/x-python",
   "name": "python",
   "nbconvert_exporter": "python",
   "pygments_lexer": "ipython3",
   "version": "3.11.7"
  }
 },
 "nbformat": 4,
 "nbformat_minor": 5
}

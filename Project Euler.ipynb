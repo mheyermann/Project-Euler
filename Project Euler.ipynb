{
 "cells": [
  {
   "cell_type": "markdown",
   "id": "1764dfb0-089c-4e05-989a-e75d03b6dc37",
   "metadata": {},
   "source": [
    "# Project Euler #\n",
    "\n",
    "Here I work on the solutions of problems presented in Project Euler, more information in the following __[link](https://projecteuler.net/archives)__ <br>\n",
    "***\n",
    "\n",
    "## Problem 1: *Multiples of 3 or 5* ##"
   ]
  },
  {
   "cell_type": "code",
   "execution_count": 1,
   "id": "851a55e8-b461-4456-a9b3-bb7876f6c37e",
   "metadata": {},
   "outputs": [
    {
     "name": "stdout",
     "output_type": "stream",
     "text": [
      "The sum of all the multiples of 3 or 5 below 1000 is 233168\n"
     ]
    }
   ],
   "source": [
    "%reset -f\n",
    "n = 1000\n",
    "sum = 8 #We start from 6, so 3 and 5 are already considered\n",
    "for i in range(6,n):\n",
    "    if i%3 == 0 or i%5 == 0:\n",
    "        sum = sum + i\n",
    "print(\"The sum of all the multiples of 3 or 5 below\", n,\"is\", sum)  "
   ]
  },
  {
   "cell_type": "markdown",
   "id": "2e49dfc3-48be-4348-937a-9c86f5f42407",
   "metadata": {},
   "source": [
    "## Problem 2: *Even Fibonacci Numbers* ##"
   ]
  },
  {
   "cell_type": "code",
   "execution_count": 2,
   "id": "d4c526b9-e16b-42f4-b67f-331898ad80a9",
   "metadata": {},
   "outputs": [
    {
     "name": "stdout",
     "output_type": "stream",
     "text": [
      "The sum of the even-valued terms of the Fibonacci sequence whose values do not exceed four million is 4613732\n"
     ]
    }
   ],
   "source": [
    "%reset -f\n",
    "sum = 1 #start with number 1, first number of the series\n",
    "aux = 1\n",
    "fib = 1\n",
    "while fib <= 4000000:\n",
    "    if fib % 2 != 0: #check that the number is even\n",
    "        sum = sum + fib #add the value to the sum of even fibonacci numbers\n",
    "    aux, fib = fib, fib + aux #Define next fib number and previous one    \n",
    "print(\"The sum of the even-valued terms of the Fibonacci sequence whose values do not exceed four million is\", sum)"
   ]
  },
  {
   "cell_type": "markdown",
   "id": "d3132ade-b3ce-4051-9c27-0df802bc4229",
   "metadata": {},
   "source": [
    "## Problem 3: *Largest Prime Factor* ##"
   ]
  },
  {
   "cell_type": "code",
   "execution_count": 3,
   "id": "5fedc1c3-8714-4b1b-9ce8-8c1eddf75fad",
   "metadata": {},
   "outputs": [
    {
     "name": "stdout",
     "output_type": "stream",
     "text": [
      "The largest prime factor of the number 600851475143 is: 6857\n"
     ]
    }
   ],
   "source": [
    "%reset -f\n",
    "#We define a function that return True if the number is prime and False if it isn't\n",
    "def is_prime(x):\n",
    "    for i in range(2,round(x**(1/2))+1): #Until the square root of x according the Trial Division Test: https://www.wikihow.com/Check-if-a-Number-Is-Prime\n",
    "        if x % i == 0:\n",
    "            return False\n",
    "    return True\n",
    "\n",
    "#Define the number, loop throught the range until we find the max prime that is a factor of n\n",
    "n = 600851475143\n",
    "l_prime = 2\n",
    "for i in range(3, round(n**(1/2))+1):\n",
    "    if is_prime(i):\n",
    "        if n % i == 0:\n",
    "            l_prime = i        \n",
    "print(\"The largest prime factor of the number\", n, \"is:\",l_prime)"
   ]
  },
  {
   "cell_type": "markdown",
   "id": "b763c798-d62d-48cc-8cbd-9511fd5bb97a",
   "metadata": {},
   "source": [
    "## Problem 4: *Largest Palindrome Product* ##"
   ]
  },
  {
   "cell_type": "code",
   "execution_count": 4,
   "id": "d265b4c3-8d59-4fc8-85c5-16959a740792",
   "metadata": {},
   "outputs": [
    {
     "name": "stdout",
     "output_type": "stream",
     "text": [
      "The largest palindrome made from the product of two 3-digit numbers is 906609 = 913 x 993\n"
     ]
    }
   ],
   "source": [
    "%reset -f\n",
    "# We define a function to see if the number is a palindrome.\n",
    "def is_pal(x):\n",
    "    s_x= str(x)\n",
    "    for i in range(0, len(s_x)//2):\n",
    "        if s_x[i] != s_x[-i-1]:\n",
    "            return False\n",
    "    return True\n",
    "\n",
    "pal = 9009 #We start with the largest palindrome made from the product of two 2-digits numbers\n",
    "auxi = 0 #To save the 1st 3-digit number\n",
    "auxj = 0 #To save the 2nd 3-digit number\n",
    "for i in range(100,1000):\n",
    "    for j in range(i,1000):\n",
    "        num= i*j\n",
    "        if is_pal(num) and num > pal:\n",
    "            pal = num\n",
    "            auxi = i\n",
    "            auxj = j\n",
    "print(\"The largest palindrome made from the product of two 3-digit numbers is\",pal,\"=\", auxi,\"x\", auxj)"
   ]
  },
  {
   "cell_type": "markdown",
   "id": "232294db-82a6-4b18-8ee5-d9e8f4ef928e",
   "metadata": {},
   "source": [
    "## Problem 5: *Smallest Multiple* ##"
   ]
  },
  {
   "cell_type": "code",
   "execution_count": 11,
   "id": "7c8fe371-aab7-4790-8999-b770e4abae14",
   "metadata": {},
   "outputs": [
    {
     "name": "stdout",
     "output_type": "stream",
     "text": [
      "The smallest positive number that is evenly divisible by all of the numbers from 1 to 20 is 232792560\n"
     ]
    }
   ],
   "source": [
    "%reset -f\n",
    "n = 20 # We define until which number we want to divide\n",
    "n_list = []\n",
    "for i in range(2, n+1):\n",
    "    n_list.append(i) # We create a list of the numbers we are using to divide\n",
    "stop = False\n",
    "x = 2520\n",
    "while stop == False:\n",
    "    x += 2520 # To repeat again the 10 [0] remainders in a row, we need another 2520 iterations\n",
    "    rem = [x % i for i in n_list]\n",
    "    if sum(rem)==0:\n",
    "        stop = True\n",
    "print(\"The smallest positive number that is evenly divisible by all of the numbers from 1 to 20 is\",x)"
   ]
  },
  {
   "cell_type": "markdown",
   "id": "b384aa2d-b057-4c50-9d03-55daaceb082f",
   "metadata": {},
   "source": [
    "## Problem 6: *Sum Square Difference* ##"
   ]
  },
  {
   "cell_type": "code",
   "execution_count": 6,
   "id": "99488fad-2cdf-4a5a-80f1-62613347bbf4",
   "metadata": {},
   "outputs": [
    {
     "name": "stdout",
     "output_type": "stream",
     "text": [
      "The difference between the sum of the squares of the first one hundred natural numbers and the square of the sum is: 25164150\n"
     ]
    }
   ],
   "source": [
    "%reset -f\n",
    "n = 100 #We define how many numbers\n",
    "n_list = []\n",
    "for i in range(1, n+1):\n",
    "    n_list.append(i) # We create a list of the 1st 'n' natural numbers\n",
    "n_squares = [i**2 for i in n_list] #We create a list of the squares\n",
    "diff = sum(n_list)**2-sum(n_squares)\n",
    "print(\"The difference between the sum of the squares of the first one hundred natural numbers and the square of the sum is:\",diff)"
   ]
  },
  {
   "cell_type": "markdown",
   "id": "1be97c74-d67f-41c7-b283-676debad3615",
   "metadata": {},
   "source": [
    "## Problem 7: *10,001st Prime* #"
   ]
  },
  {
   "cell_type": "code",
   "execution_count": 7,
   "id": "e9f08edb-a549-4889-8210-3f7e4686fde4",
   "metadata": {},
   "outputs": [
    {
     "name": "stdout",
     "output_type": "stream",
     "text": [
      "The 10,001 prime number is 104743\n"
     ]
    }
   ],
   "source": [
    "%reset -f\n",
    "# We use the is_prime() function from Problem 3\n",
    "def is_prime(x):\n",
    "    for i in range(2,round(x**(1/2))+1): #Until the square root of x according the Trial Division Test: https://www.wikihow.com/Check-if-a-Number-Is-Prime\n",
    "        if x % i == 0:\n",
    "            return False\n",
    "    return True\n",
    "    \n",
    "prime_list = [2]\n",
    "n = 10001 # Number of the n prime we want\n",
    "i = 3\n",
    "while len(prime_list) < n:\n",
    "    if is_prime(i):\n",
    "        prime_list.append(i)\n",
    "    i+=2\n",
    "print(\"The 10,001 prime number is\",prime_list[-1])"
   ]
  },
  {
   "cell_type": "markdown",
   "id": "73c67710-061c-4e27-a9af-ef56defd3e7c",
   "metadata": {},
   "source": [
    "## Problem 8: *Largest Product in a Series* #"
   ]
  },
  {
   "cell_type": "code",
   "execution_count": 8,
   "id": "569b8ef0-a27f-4951-9d28-a6d59673fd8a",
   "metadata": {},
   "outputs": [
    {
     "name": "stdout",
     "output_type": "stream",
     "text": [
      "The thirteen adjacent digits in the 1000-digit number that have the greatest product are [5, 5, 7, 6, 6, 8, 9, 6, 6, 4, 8, 9, 5] = 23514624000\n"
     ]
    }
   ],
   "source": [
    "%reset -f\n",
    "t_number = \"\"\"\n",
    "            73167176531330624919225119674426574742355349194934\n",
    "            96983520312774506326239578318016984801869478851843\n",
    "            85861560789112949495459501737958331952853208805511\n",
    "            12540698747158523863050715693290963295227443043557\n",
    "            66896648950445244523161731856403098711121722383113\n",
    "            62229893423380308135336276614282806444486645238749\n",
    "            30358907296290491560440772390713810515859307960866\n",
    "            70172427121883998797908792274921901699720888093776\n",
    "            65727333001053367881220235421809751254540594752243\n",
    "            52584907711670556013604839586446706324415722155397\n",
    "            53697817977846174064955149290862569321978468622482\n",
    "            83972241375657056057490261407972968652414535100474\n",
    "            82166370484403199890008895243450658541227588666881\n",
    "            16427171479924442928230863465674813919123162824586\n",
    "            17866458359124566529476545682848912883142607690042\n",
    "            24219022671055626321111109370544217506941658960408\n",
    "            07198403850962455444362981230987879927244284909188\n",
    "            84580156166097919133875499200524063689912560717606\n",
    "            05886116467109405077541002256983155200055935729725\n",
    "            71636269561882670428252483600823257530420752963450\"\"\"\n",
    "# We format the number so the indentations and break lines are not part of the string (visually it looks better like a square)\n",
    "t_number = t_number.replace(\" \", \"\").replace(\"\\n\", \"\")\n",
    "n = 13 # Amount of adjacent digits to consider\n",
    "prod = 1 \n",
    "\n",
    "numbers = []\n",
    "for i in range(0,len(t_number)-13):\n",
    "    x = 1\n",
    "    numbers_aux = []\n",
    "    for j in range(0,13):\n",
    "        x *= int(t_number[j+i])\n",
    "        numbers_aux.append(t_number[j+i])\n",
    "    if x > prod:\n",
    "        prod = x\n",
    "        numbers = list(map(int, numbers_aux))\n",
    "print(\"The thirteen adjacent digits in the 1000-digit number that have the greatest product are\",numbers,\"=\",prod)"
   ]
  },
  {
   "cell_type": "markdown",
   "id": "b4f3ed05-e1bd-43f2-8aa5-312b171f6f1f",
   "metadata": {},
   "source": [
    "## Problem 9: *Special Pythagorean Triplet* #"
   ]
  },
  {
   "cell_type": "code",
   "execution_count": 1,
   "id": "846d19f4-b1a4-4879-8f58-63008d4af1f7",
   "metadata": {},
   "outputs": [
    {
     "name": "stdout",
     "output_type": "stream",
     "text": [
      "The product abc, where a, b, c are Pythagorean triplet for which a + b + c = 1000 is: 31875000 | a = 200 b = 375 c = 425\n"
     ]
    }
   ],
   "source": [
    "%reset -f\n",
    "n=1000\n",
    "# We define a cycle where c > b > a\n",
    "for a in range (1,n):\n",
    "    for b in range (a+1,n):\n",
    "        for c in range (b+1,n):\n",
    "            if (a**2+b**2==c**2) and (a+b+c==n):\n",
    "                prod = a*b*c\n",
    "                print(\"The product abc, where a, b, c are Pythagorean triplet for which a + b + c =\", n, \"is:\", prod, \"|\", \"a =\", a, \"b =\", b, \"c =\", c)\n",
    "                break"
   ]
  },
  {
   "cell_type": "markdown",
   "id": "a0f9666b-18f7-44f3-bc69-9bf03c7edb0c",
   "metadata": {},
   "source": [
    "## Problem 10: *Summation of Primes* #"
   ]
  },
  {
   "cell_type": "code",
   "execution_count": 16,
   "id": "8fe7cc27-08b6-4958-8f4e-0e1a6cb88980",
   "metadata": {},
   "outputs": [
    {
     "name": "stdout",
     "output_type": "stream",
     "text": [
      "The sum of the primes below 2000000 is: 142913828922\n"
     ]
    }
   ],
   "source": [
    "%reset -f\n",
    "# We use the is_prime() function from Problem 3\n",
    "def is_prime(x):\n",
    "    for i in range(2,round(x**(1/2))+1): #Until the square root of x according the Trial Division Test: https://www.wikihow.com/Check-if-a-Number-Is-Prime\n",
    "        if x % i == 0:\n",
    "            return False\n",
    "    return True\n",
    "\n",
    "n = 2000000 # Number of primes below n    \n",
    "prime_list = [2]\n",
    "i = 3\n",
    "while i < n:\n",
    "    if is_prime(i):\n",
    "        prime_list.append(i)\n",
    "    i+=2\n",
    "print(\"The sum of the primes below\", n, \"is:\", sum(prime_list))"
   ]
  },
  {
   "cell_type": "markdown",
   "id": "cdb3617f-aad3-48a0-8706-4dd6ed1d5008",
   "metadata": {},
   "source": [
    "## Problem 11: *Largest Product in a Grid* #"
   ]
  },
  {
   "cell_type": "code",
   "execution_count": 11,
   "id": "ed4e0b39-7c55-4071-8951-4a01111954b5",
   "metadata": {},
   "outputs": [
    {
     "name": "stdout",
     "output_type": "stream",
     "text": [
      "The greatest product of four adjacent numbers in horizontal, vertical or diagonal is: 89 x 94 x 97 x 87 = 70600674\n"
     ]
    }
   ],
   "source": [
    "%reset -f\n",
    "grid = [ [8, 2, 22, 97, 38, 15, 0, 40, 0, 75, 4, 5, 7, 78, 52, 12, 50, 77, 91, 8],\n",
    "        [49, 49, 99, 40, 17, 81, 18, 57, 60, 87, 17, 40, 98, 43, 69, 48, 4, 56, 62, 0],\n",
    "        [81, 49, 31, 73, 55, 79, 14, 29, 93, 71, 40, 67, 53, 88, 30, 3, 49, 13, 36, 65],\n",
    "        [52, 70, 95, 23, 4, 60, 11, 42, 69, 24, 68, 56, 1, 32, 56, 71, 37, 2, 36, 91],\n",
    "        [22, 31, 16, 71, 51, 67, 63, 89, 41, 92, 36, 54, 22, 40, 40, 28, 66, 33, 13, 80],\n",
    "        [24, 47, 32, 60, 99, 3, 45, 2, 44, 75, 33, 53, 78, 36, 84, 20, 35, 17, 12, 50],\n",
    "        [32, 98, 81, 28, 64, 23, 67, 10, 26, 38, 40, 67, 59, 54, 70, 66, 18, 38, 64, 70],\n",
    "        [67, 26, 20, 68, 2, 62, 12, 20, 95, 63, 94, 39, 63, 8, 40, 91, 66, 49, 94, 21],\n",
    "        [24, 55, 58, 5, 66, 73, 99, 26, 97, 17, 78, 78, 96, 83, 14, 88, 34, 89, 63, 72],\n",
    "        [21, 36, 23, 9, 75, 0, 76, 44, 20, 45, 35, 14, 0, 61, 33, 97, 34, 31, 33, 95],\n",
    "        [78, 17, 53, 28, 22, 75, 31, 67, 15, 94, 3, 80, 4, 62, 16, 14, 9, 53, 56, 92],\n",
    "        [16, 39, 5, 42, 96, 35, 31, 47, 55, 58, 88, 24, 0, 17, 54, 24, 36, 29, 85, 57],\n",
    "        [86, 56, 0, 48, 35, 71, 89, 7, 5, 44, 44, 37, 44, 60, 21, 58, 51, 54, 17, 58],\n",
    "        [19, 80, 81, 68, 5, 94, 47, 69, 28, 73, 92, 13, 86, 52, 17, 77, 4, 89, 55, 40],\n",
    "        [4, 52, 8, 83, 97, 35, 99, 16, 7, 97, 57, 32, 16, 26, 26, 79, 33, 27, 98, 66],\n",
    "        [88, 36, 68, 87, 57, 62, 20, 72, 3, 46, 33, 67, 46, 55, 12, 32, 63, 93, 53, 69],\n",
    "        [4, 42, 16, 73, 38, 25, 39, 11, 24, 94, 72, 18, 8, 46, 29, 32, 40, 62, 76, 36],\n",
    "        [20, 69, 36, 41, 72, 30, 23, 88, 34, 62, 99, 69, 82, 67, 59, 85, 74, 4, 36, 16],\n",
    "        [20, 73, 35, 29, 78, 31, 90, 1, 74, 31, 49, 71, 48, 86, 81, 16, 23, 57, 5, 54],\n",
    "        [1, 70, 54, 71, 83, 51, 54, 69, 16, 92, 33, 48, 61, 43, 52, 1, 89, 19, 67, 48]]\n",
    "prod = 0\n",
    "for i in range(0,len(grid)):\n",
    "    if i <= len(grid)-4:\n",
    "        for j in range(0,len(grid[0])):\n",
    "            if j < 4:\n",
    "                prod_v = grid[i][j]*grid[i+1][j]*grid[i+2][j]*grid[i+3][j]\n",
    "                prod_h = grid[i][j]*grid[i][j+1]*grid[i][j+2]*grid[i][j+3]\n",
    "                prod_d1 = grid[i][j]*grid[i+1][j+1]*grid[i+2][j+2]*grid[i+3][j+3]\n",
    "                prod_aux= max(prod_v,prod_h,prod_d1)\n",
    "                if prod_aux > prod:\n",
    "                    prod = prod_aux\n",
    "                    if prod_v == prod:\n",
    "                        n1, n2, n3, n4 = grid[i][j], grid[i+1][j], grid[i+2][j], grid[i+3][j]\n",
    "                    elif prod_h == prod:\n",
    "                        n1, n2, n3, n4 = grid[i][j], grid[i][j+1], grid[i][j+2], grid[i][j+3]\n",
    "                    elif prod_d1 == prod:\n",
    "                        n1, n2, n3, n4 = grid[i][j], grid[i+1][j+1], grid[i+2][j+2], grid[i+3][j+3]\n",
    "            elif j >= 4 and j <= len(grid[0])-4:\n",
    "                prod_v = grid[i][j]*grid[i+1][j]*grid[i+2][j]*grid[i+3][j]\n",
    "                prod_h = grid[i][j]*grid[i][j+1]*grid[i][j+2]*grid[i][j+3]\n",
    "                prod_d1 = grid[i][j]*grid[i+1][j+1]*grid[i+2][j+2]*grid[i+3][j+3]\n",
    "                prod_d2 = grid[i][j]*grid[i+1][j-1]*grid[i+2][j-2]*grid[i+3][j-3]\n",
    "                prod_aux= max(prod_v,prod_h,prod_d1,prod_d2)\n",
    "                if prod_aux > prod:\n",
    "                    prod = prod_aux\n",
    "                    if prod_v == prod:\n",
    "                        n1, n2, n3, n4 = grid[i][j], grid[i+1][j], grid[i+2][j], grid[i+3][j]\n",
    "                    elif prod_h == prod:\n",
    "                        n1, n2, n3, n4 = grid[i][j], grid[i][j+1], grid[i][j+2], grid[i][j+3]\n",
    "                    elif prod_d1 == prod:\n",
    "                        n1, n2, n3, n4 = grid[i][j], grid[i+1][j+1], grid[i+2][j+2], grid[i+3][j+3]\n",
    "                    elif prod_d2 == prod:\n",
    "                        n1, n2, n3, n4 = grid[i][j], grid[i+1][j-1], grid[i+2][j-2], grid[i+3][j-3]\n",
    "            elif j> len(grid[0])-4:\n",
    "                prod_v = grid[i][j]*grid[i+1][j]*grid[i+2][j]*grid[i+3][j]\n",
    "                prod_d2 = grid[i][j]*grid[i+1][j-1]*grid[i+2][j-2]*grid[i+3][j-3]\n",
    "                prod_aux= max(prod_v,prod_d2)\n",
    "                if prod_aux > prod:\n",
    "                    prod = prod_aux\n",
    "                    if prod_v == prod:\n",
    "                        n1, n2, n3, n4 = grid[i][j], grid[i+1][j], grid[i+2][j], grid[i+3][j]\n",
    "                    elif prod_d2 == prod:\n",
    "                        n1, n2, n3, n4 = grid[i][j], grid[i+1][j-1], grid[i+2][j-2], grid[i+3][j-3]\n",
    "    if i > len(grid)-4:\n",
    "        for j in range(0,len(grid[0])-4):\n",
    "            prod_h = grid[i][j]*grid[i][j+1]*grid[i][j+2]*grid[i][j+3]\n",
    "            prod_aux = prod_h\n",
    "            if prod_aux > prod:\n",
    "                prod = prod_aux\n",
    "                n1, n2, n3, n4 = grid[i][j], grid[i][j+1], grid[i][j+2], grid[i][j+3]\n",
    "print(\"The greatest product of four adjacent numbers in horizontal, vertical or diagonal is:\", n1, \"x\", n2, \"x\", n3, \"x\", n4, \"=\", prod)               "
   ]
  },
  {
   "cell_type": "markdown",
   "id": "0d3c2f48-b31a-4c2a-94c5-3996f366f7dd",
   "metadata": {},
   "source": [
    "## Problem 12: *Highly Divisible Triangular Number* #"
   ]
  },
  {
   "cell_type": "code",
   "execution_count": 67,
   "id": "6e154c07-0112-41b9-93c2-715a151d98c4",
   "metadata": {},
   "outputs": [
    {
     "name": "stdout",
     "output_type": "stream",
     "text": [
      "The first triangle number to have over five hundred divisors is: 76576500\n"
     ]
    }
   ],
   "source": [
    "# Method 1\n",
    "%reset -f\n",
    "n_divisors = 500 # Amount of factors we want for the triangle number\n",
    "n_factors = 0 # Westart we 0 amount of factor numbers\n",
    "n = 8 # We start from the 8th triangle number\n",
    "triangle_number = 36\n",
    "while n_factors < n_divisors: #We stop when we find a number with n divisors\n",
    "    n_factors = 0\n",
    "    for i in range(1,round(triangle_number**(1/2))+1): # We look for the factors if we find one, we increase by 2 because we got i and number/i\n",
    "        if triangle_number % i == 0:\n",
    "            n_factors += 2\n",
    "    n += 1\n",
    "    triangle_number = triangle_number + n\n",
    "triangle_number = triangle_number - n\n",
    "print(\"The first triangle number to have over five hundred divisors is:\", triangle_number)"
   ]
  },
  {
   "cell_type": "code",
   "execution_count": 71,
   "id": "b28de428-e244-418d-ad3b-b513cdb7d1b8",
   "metadata": {},
   "outputs": [
    {
     "name": "stdout",
     "output_type": "stream",
     "text": [
      "The first triangle number to have over five hundred divisors is: 76576500\n"
     ]
    }
   ],
   "source": [
    "# Method 2\n",
    "%reset -f\n",
    "n_divisors = 500 # Amount of factors we want for the triangle number\n",
    "n = 1 # We start from the 8th triangle number\n",
    "triangle_number = 1\n",
    "list = []\n",
    "list2 = [] # We make a list of factors list for each triangle number\n",
    "while len(list2) <= n_divisors: # We stop when the list has 500 factors\n",
    "    list2 = []\n",
    "    for i in range(1,round(triangle_number**(1/2))+1):\n",
    "        if triangle_number % i == 0:\n",
    "            list2.append(i)\n",
    "            list2.append(triangle_number/i)\n",
    "    list2.append(triangle_number)\n",
    "    n += 1\n",
    "    triangle_number = triangle_number + n\n",
    "    list.append(list2)\n",
    "print(\"The first triangle number to have over five hundred divisors is:\", list[-1][-1])"
   ]
  },
  {
   "cell_type": "markdown",
   "id": "bef2be0c-2b69-46a8-a958-54331713d877",
   "metadata": {},
   "source": [
    "## Problem 13: *Large Sum* #"
   ]
  },
  {
   "cell_type": "code",
   "execution_count": 24,
   "id": "d477b11c-6abb-4514-b376-ec808a17ef8d",
   "metadata": {},
   "outputs": [
    {
     "name": "stdout",
     "output_type": "stream",
     "text": [
      "The first ten digits of the sum of the one-hundred 50-digit numbers is: 5537376230\n"
     ]
    }
   ],
   "source": [
    "%reset -f\n",
    "l_number = \"\"\"37107287533902102798797998220837590246510135740250\n",
    "46376937677490009712648124896970078050417018260538\n",
    "74324986199524741059474233309513058123726617309629\n",
    "91942213363574161572522430563301811072406154908250\n",
    "23067588207539346171171980310421047513778063246676\n",
    "89261670696623633820136378418383684178734361726757\n",
    "28112879812849979408065481931592621691275889832738\n",
    "44274228917432520321923589422876796487670272189318\n",
    "47451445736001306439091167216856844588711603153276\n",
    "70386486105843025439939619828917593665686757934951\n",
    "62176457141856560629502157223196586755079324193331\n",
    "64906352462741904929101432445813822663347944758178\n",
    "92575867718337217661963751590579239728245598838407\n",
    "58203565325359399008402633568948830189458628227828\n",
    "80181199384826282014278194139940567587151170094390\n",
    "35398664372827112653829987240784473053190104293586\n",
    "86515506006295864861532075273371959191420517255829\n",
    "71693888707715466499115593487603532921714970056938\n",
    "54370070576826684624621495650076471787294438377604\n",
    "53282654108756828443191190634694037855217779295145\n",
    "36123272525000296071075082563815656710885258350721\n",
    "45876576172410976447339110607218265236877223636045\n",
    "17423706905851860660448207621209813287860733969412\n",
    "81142660418086830619328460811191061556940512689692\n",
    "51934325451728388641918047049293215058642563049483\n",
    "62467221648435076201727918039944693004732956340691\n",
    "15732444386908125794514089057706229429197107928209\n",
    "55037687525678773091862540744969844508330393682126\n",
    "18336384825330154686196124348767681297534375946515\n",
    "80386287592878490201521685554828717201219257766954\n",
    "78182833757993103614740356856449095527097864797581\n",
    "16726320100436897842553539920931837441497806860984\n",
    "48403098129077791799088218795327364475675590848030\n",
    "87086987551392711854517078544161852424320693150332\n",
    "59959406895756536782107074926966537676326235447210\n",
    "69793950679652694742597709739166693763042633987085\n",
    "41052684708299085211399427365734116182760315001271\n",
    "65378607361501080857009149939512557028198746004375\n",
    "35829035317434717326932123578154982629742552737307\n",
    "94953759765105305946966067683156574377167401875275\n",
    "88902802571733229619176668713819931811048770190271\n",
    "25267680276078003013678680992525463401061632866526\n",
    "36270218540497705585629946580636237993140746255962\n",
    "24074486908231174977792365466257246923322810917141\n",
    "91430288197103288597806669760892938638285025333403\n",
    "34413065578016127815921815005561868836468420090470\n",
    "23053081172816430487623791969842487255036638784583\n",
    "11487696932154902810424020138335124462181441773470\n",
    "63783299490636259666498587618221225225512486764533\n",
    "67720186971698544312419572409913959008952310058822\n",
    "95548255300263520781532296796249481641953868218774\n",
    "76085327132285723110424803456124867697064507995236\n",
    "37774242535411291684276865538926205024910326572967\n",
    "23701913275725675285653248258265463092207058596522\n",
    "29798860272258331913126375147341994889534765745501\n",
    "18495701454879288984856827726077713721403798879715\n",
    "38298203783031473527721580348144513491373226651381\n",
    "34829543829199918180278916522431027392251122869539\n",
    "40957953066405232632538044100059654939159879593635\n",
    "29746152185502371307642255121183693803580388584903\n",
    "41698116222072977186158236678424689157993532961922\n",
    "62467957194401269043877107275048102390895523597457\n",
    "23189706772547915061505504953922979530901129967519\n",
    "86188088225875314529584099251203829009407770775672\n",
    "11306739708304724483816533873502340845647058077308\n",
    "82959174767140363198008187129011875491310547126581\n",
    "97623331044818386269515456334926366572897563400500\n",
    "42846280183517070527831839425882145521227251250327\n",
    "55121603546981200581762165212827652751691296897789\n",
    "32238195734329339946437501907836945765883352399886\n",
    "75506164965184775180738168837861091527357929701337\n",
    "62177842752192623401942399639168044983993173312731\n",
    "32924185707147349566916674687634660915035914677504\n",
    "99518671430235219628894890102423325116913619626622\n",
    "73267460800591547471830798392868535206946944540724\n",
    "76841822524674417161514036427982273348055556214818\n",
    "97142617910342598647204516893989422179826088076852\n",
    "87783646182799346313767754307809363333018982642090\n",
    "10848802521674670883215120185883543223812876952786\n",
    "71329612474782464538636993009049310363619763878039\n",
    "62184073572399794223406235393808339651327408011116\n",
    "66627891981488087797941876876144230030984490851411\n",
    "60661826293682836764744779239180335110989069790714\n",
    "85786944089552990653640447425576083659976645795096\n",
    "66024396409905389607120198219976047599490197230297\n",
    "64913982680032973156037120041377903785566085089252\n",
    "16730939319872750275468906903707539413042652315011\n",
    "94809377245048795150954100921645863754710598436791\n",
    "78639167021187492431995700641917969777599028300699\n",
    "15368713711936614952811305876380278410754449733078\n",
    "40789923115535562561142322423255033685442488917353\n",
    "44889911501440648020369068063960672322193204149535\n",
    "41503128880339536053299340368006977710650566631954\n",
    "81234880673210146739058568557934581403627822703280\n",
    "82616570773948327592232845941706525094512325230608\n",
    "22918802058777319719839450180888072429661980811197\n",
    "77158542502016545090413245809786882778948721859617\n",
    "72107838435069186155435662884062257473692284509516\n",
    "20849603980134001723930671666823555245252804609722\n",
    "53503534226472524250874054075591789781264330331690\"\"\"\n",
    "\n",
    "l_number = l_number.split(\"\\n\") # We get each number of the list\n",
    "l_number_int = [int(i) for i in l_number] # We transform to integer each string number\n",
    "print(\"The first ten digits of the sum of the one-hundred 50-digit numbers is:\",str(sum(l_number_int))[:10])"
   ]
  },
  {
   "cell_type": "markdown",
   "id": "b5559fd8-217a-41ae-be3c-f1733b0ee3c5",
   "metadata": {},
   "source": [
    "## Problem 14: *Longest Collatz Sequence* #"
   ]
  },
  {
   "cell_type": "code",
   "execution_count": 26,
   "id": "f5e4c611-0326-4571-810d-4279ee683b35",
   "metadata": {},
   "outputs": [
    {
     "name": "stdout",
     "output_type": "stream",
     "text": [
      "The starting number, under 1000000 with the longest Collatz Sequence is: 837799 with 525 terms.\n"
     ]
    }
   ],
   "source": [
    "%reset -f\n",
    "n_max =1000000 # Maximum starting number\n",
    "n_min = round(n_max/2)\n",
    "if n_min % 2 == 0: #If even we get the next odd number\n",
    "    n_min += 1\n",
    "long_chain = []\n",
    "for i in range(n_min,n_max,2): # We consider odd numbers, because even numbers will take us to sequences already calculated\n",
    "    n = i\n",
    "    chain = [i]\n",
    "    while n != 1:\n",
    "        if n%2 == 0:\n",
    "            n = n/2\n",
    "            chain.append(n)\n",
    "        else:\n",
    "            n = 3*n+1\n",
    "            chain.append(n)\n",
    "    if len(chain) > len(long_chain):\n",
    "        long_chain = chain\n",
    "print(\"The starting number, under\",n_max , \"with the longest Collatz Sequence is:\",long_chain[0], \"with\", len(long_chain),\"terms.\")"
   ]
  },
  {
   "cell_type": "markdown",
   "id": "dcc4136d-a4a3-45ef-b37f-e2e9cc1d32a7",
   "metadata": {},
   "source": [
    "## Problem 15: *Lattice Paths* #"
   ]
  },
  {
   "cell_type": "code",
   "execution_count": null,
   "id": "cc1a7fea-0fe8-4aff-9814-81f023e1da67",
   "metadata": {},
   "outputs": [],
   "source": [
    "%reset -f\n",
    "dim = 20\n",
    "routes = 0\n",
    "for i in range(0,dim):\n",
    "    lim_i = dim\n",
    "    lim_j = dim\n",
    "    while lim_i >= 0:\n",
    "        \n",
    "    \n"
   ]
  },
  {
   "cell_type": "code",
   "execution_count": 1,
   "id": "9e778036-43e5-41f5-9f20-dad1aa022c75",
   "metadata": {},
   "outputs": [
    {
     "data": {
      "text/plain": [
       "104857600000000000000000000"
      ]
     },
     "execution_count": 1,
     "metadata": {},
     "output_type": "execute_result"
    }
   ],
   "source": [
    "20**20"
   ]
  },
  {
   "cell_type": "code",
   "execution_count": 11,
   "id": "6967256d-90d3-4a1c-9c6c-1539b25ff3b2",
   "metadata": {},
   "outputs": [
    {
     "name": "stdout",
     "output_type": "stream",
     "text": [
      "1050\n",
      "1120\n",
      "1190\n",
      "1260\n",
      "1330\n",
      "1400\n",
      "1470\n",
      "1540\n",
      "1610\n",
      "1680\n",
      "1750\n",
      "1820\n",
      "1890\n",
      "1960\n",
      "2030\n",
      "2100\n",
      "2170\n",
      "2240\n",
      "2310\n",
      "2380\n",
      "2450\n",
      "2520\n",
      "2590\n",
      "2660\n",
      "2730\n",
      "2800\n",
      "2870\n",
      "2940\n",
      "3010\n",
      "3080\n",
      "3150\n",
      "3220\n",
      "3290\n",
      "3360\n",
      "3430\n",
      "3500\n",
      "3570\n",
      "3640\n",
      "3710\n",
      "3780\n",
      "3850\n",
      "3920\n",
      "3990\n",
      "4060\n",
      "4130\n",
      "4200\n",
      "4270\n",
      "4340\n",
      "4410\n",
      "4480\n",
      "4550\n",
      "4620\n",
      "4690\n",
      "4760\n",
      "4830\n",
      "4900\n",
      "4970\n",
      "5040\n",
      "5110\n",
      "5180\n",
      "5250\n",
      "5320\n",
      "5390\n",
      "5460\n",
      "5530\n",
      "5600\n",
      "5670\n",
      "5740\n",
      "5810\n",
      "5880\n",
      "5950\n",
      "6020\n",
      "6090\n",
      "6160\n",
      "6230\n",
      "6300\n",
      "6370\n",
      "6440\n",
      "6510\n",
      "6580\n",
      "6650\n",
      "6720\n",
      "6790\n",
      "6860\n",
      "6930\n",
      "7000\n",
      "7070\n",
      "7140\n",
      "7210\n",
      "7280\n",
      "7350\n",
      "7420\n",
      "7490\n",
      "7560\n",
      "7630\n",
      "7700\n",
      "7770\n",
      "7840\n",
      "7910\n",
      "7980\n",
      "8050\n",
      "8120\n",
      "8190\n",
      "8260\n",
      "8330\n",
      "8400\n",
      "8470\n",
      "8540\n",
      "8610\n",
      "8680\n",
      "8750\n",
      "8820\n",
      "8890\n",
      "8960\n",
      "9030\n",
      "9100\n",
      "9170\n",
      "9240\n",
      "9310\n",
      "9380\n",
      "9450\n",
      "9520\n",
      "9590\n",
      "9660\n",
      "9730\n",
      "9800\n",
      "9870\n",
      "9940\n",
      "The sum of all the multiples of 3 or 5 below 10000 is 703368 128\n"
     ]
    }
   ],
   "source": [
    "%reset -f\n",
    "n = 10000\n",
    "count = 0\n",
    "sum = 8 #We start from 6, so 3 and 5 are already considered\n",
    "for i in range(1000,n):\n",
    "    if i%7 == 0 and i%5 == 0 and i%10 == 0:\n",
    "        sum = sum + i\n",
    "        count += 1\n",
    "        print(i)\n",
    "print(\"The sum of all the multiples of 3 or 5 below\", n,\"is\", sum, count)  "
   ]
  },
  {
   "cell_type": "code",
   "execution_count": 20,
   "id": "3fe537c2-42a4-4f93-90e7-d6fd9384b9b4",
   "metadata": {},
   "outputs": [
    {
     "name": "stdout",
     "output_type": "stream",
     "text": [
      "34,13,64\n"
     ]
    }
   ],
   "source": [
    "startIndex = 1\n",
    "endIndex = 4\n",
    "tup = (7, 34, 13, 64, 12)\n",
    "new_tup = tup[startIndex: endIndex]\n",
    "str_tup = \"\"\n",
    "for i in range(0,len(new_tup)-1):\n",
    "    str_tup = str_tup +  str(new_tup[i]) + \",\" \n",
    "str_tup = str_tup + str(new_tup[-1])\n",
    "print(str_tup)"
   ]
  },
  {
   "cell_type": "code",
   "execution_count": null,
   "id": "dd2e5ca0-9beb-42a0-aafd-828ed97d0667",
   "metadata": {},
   "outputs": [],
   "source": []
  }
 ],
 "metadata": {
  "kernelspec": {
   "display_name": "Python 3 (ipykernel)",
   "language": "python",
   "name": "python3"
  },
  "language_info": {
   "codemirror_mode": {
    "name": "ipython",
    "version": 3
   },
   "file_extension": ".py",
   "mimetype": "text/x-python",
   "name": "python",
   "nbconvert_exporter": "python",
   "pygments_lexer": "ipython3",
   "version": "3.11.7"
  }
 },
 "nbformat": 4,
 "nbformat_minor": 5
}

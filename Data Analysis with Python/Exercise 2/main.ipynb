{
 "cells": [
  {
   "cell_type": "markdown",
   "id": "4cd0c1a1-58f5-457a-a71c-c80cf9911605",
   "metadata": {},
   "source": [
    "# Exercise 2: Demographic Data Analyzer\r\n",
    "\r\n",
    "In this challenge, you must analyze demographic data using Pandas. You are given a dataset of demographic data extracted from the 1994 Census database. Use Pandas to answer the following questions:\r\n",
    "\r\n",
    "1. **How many people of each race are represented in this dataset?**\r\n",
    "   - This should be a Pandas series with race names as the index labels (race column).\r\n",
    "\r\n",
    "2. **What is the average age of men?**\r\n",
    "\r\n",
    "3. **What is the percentage of people who have a Bachelor's degree?**\r\n",
    "\r\n",
    "4. **What percentage of people with advanced education (Bachelors, Masters, or Doctorate) make more than 50K?**\r\n",
    "\r\n",
    "5. **What percentage of people without advanced education make more than 50K?**\r\n",
    "\r\n",
    "6. **What is the minimum number of hours a person works per week?**\r\n",
    "\r\n",
    "7. **What percentage of the people who work the minimum number of hours per week have a salary of more than 50K?**\r\n",
    "\r\n",
    "8. **What country has the highest percentage of people that earn >50K, and what is that percentage?**\r\n",
    "\r\n",
    "9. **Identify the most popular occupation for those who earn >50K in India.**\r\n",
    "\r\n",
    "Use the starter code in the file `demographic_data_analyzer.py`. Update the code so all variables set to `None` are replaced with the appropriate calculation or code. Round all decimals to the nearest tenth.\r\n",
    "s to the nearest tenth.\r\n"
   ]
  },
  {
   "cell_type": "code",
   "execution_count": 5,
   "id": "3d8f6597-6d20-48b9-80d5-62259ae1559b",
   "metadata": {},
   "outputs": [
    {
     "name": "stdout",
     "output_type": "stream",
     "text": [
      "Number of each race:\n",
      " race\n",
      "White                 27816\n",
      "Black                  3124\n",
      "Asian-Pac-Islander     1039\n",
      "Amer-Indian-Eskimo      311\n",
      "Other                   271\n",
      "Name: count, dtype: int64\n",
      "Average age of men: 39.4\n",
      "Percentage with Bachelors degrees: 16.4%\n",
      "Percentage with higher education that earn >50K: 46.5%\n",
      "Percentage without higher education that earn >50K: 17.4%\n",
      "Min work time: 1 hours/week\n",
      "Percentage of rich among those who work fewest hours: 10.0%\n",
      "Country with highest percentage of rich: Iran\n",
      "Highest percentage of rich people in country: 41.9%\n",
      "Top occupations in India: Prof-specialty\n"
     ]
    },
    {
     "data": {
      "text/plain": [
       "{'race_count': race\n",
       " White                 27816\n",
       " Black                  3124\n",
       " Asian-Pac-Islander     1039\n",
       " Amer-Indian-Eskimo      311\n",
       " Other                   271\n",
       " Name: count, dtype: int64,\n",
       " 'average_age_men': 39.4,\n",
       " 'percentage_bachelors': 16.4,\n",
       " 'higher_education_rich': 46.5,\n",
       " 'lower_education_rich': 17.4,\n",
       " 'min_work_hours': 1,\n",
       " 'rich_percentage': 10.0,\n",
       " 'highest_earning_country': 'Iran',\n",
       " 'highest_earning_country_percentage': 41.9,\n",
       " 'top_IN_occupation': 'Prof-specialty'}"
      ]
     },
     "execution_count": 5,
     "metadata": {},
     "output_type": "execute_result"
    }
   ],
   "source": [
    "# This entrypoint file to be used in development. Start by reading README.md\n",
    "import importlib\n",
    "import demographic_data_analyzer\n",
    "importlib.reload(demographic_data_analyzer)\n",
    "from unittest import main\n",
    "\n",
    "# Test your function by calling it here\n",
    "demographic_data_analyzer.calculate_demographic_data()\n"
   ]
  },
  {
   "cell_type": "code",
   "execution_count": null,
   "id": "2e2444df-b603-44e9-8266-6fa1d7086832",
   "metadata": {},
   "outputs": [],
   "source": []
  }
 ],
 "metadata": {
  "kernelspec": {
   "display_name": "Python 3 (ipykernel)",
   "language": "python",
   "name": "python3"
  },
  "language_info": {
   "codemirror_mode": {
    "name": "ipython",
    "version": 3
   },
   "file_extension": ".py",
   "mimetype": "text/x-python",
   "name": "python",
   "nbconvert_exporter": "python",
   "pygments_lexer": "ipython3",
   "version": "3.11.7"
  }
 },
 "nbformat": 4,
 "nbformat_minor": 5
}

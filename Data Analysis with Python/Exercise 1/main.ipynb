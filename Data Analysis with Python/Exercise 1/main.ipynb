{
 "cells": [
  {
   "cell_type": "markdown",
   "id": "c68ac9bc-85e1-4be1-ba1b-3ce3c8fd143e",
   "metadata": {},
   "source": [
    "# Exercise 1: Mean-Variance-Standard Deviation Calculator #\n",
    "Create a function named `calculate()` in `mean_var_std.py` that uses Numpy to output the mean, variance, standard deviation, max, min, and sum of the rows, columns, and elements in a 3 x 3 matrix.\r\n",
    "\r\n",
    "The input of the function should be a list containing 9 digits. The function should convert the list into a 3 x 3 Numpy array, and then return a dictionary containing the mean, variance, standard deviation, max, min, and sum along both axes and for the flattened matri\n",
    "\n",
    "if a list containing less than 9 elements is passed into the function, it should raise a `ValueError` exception with the message: \"List must contain nine numbers.\" The values in the returned dictionary should be lists and not Numpy arrays.x."
   ]
  },
  {
   "cell_type": "code",
   "execution_count": 11,
   "id": "7d25e5e2-2244-422a-a8a2-e2444a96c96a",
   "metadata": {},
   "outputs": [
    {
     "name": "stdout",
     "output_type": "stream",
     "text": [
      "{'mean': [[3.0, 4.0, 5.0], [1.0, 4.0, 7.0], 4.0], 'variance': [[6.0, 6.0, 6.0], [0.6666666666666666, 0.6666666666666666, 0.6666666666666666], 6.666666666666667], 'standard deviation': [[2.449489742783178, 2.449489742783178, 2.449489742783178], [0.816496580927726, 0.816496580927726, 0.816496580927726], 2.581988897471611], 'max': [[6, 7, 8], [2, 5, 8], 8], 'min': [[0, 1, 2], [0, 3, 6], 0], 'sum': [[9, 12, 15], [3, 12, 21], 36]}\n"
     ]
    }
   ],
   "source": [
    "# This entrypoint file to be used in development. Start by reading README.md\n",
    "import importlib\n",
    "import mean_var_std\n",
    "\n",
    "# Reload the module in case it has been modified\n",
    "importlib.reload(mean_var_std)\n",
    "\n",
    "from unittest import main\n",
    "\n",
    "print(mean_var_std.calculate([0,1,2,3,4,5,6,7,8]))\n"
   ]
  }
 ],
 "metadata": {
  "kernelspec": {
   "display_name": "Python 3 (ipykernel)",
   "language": "python",
   "name": "python3"
  },
  "language_info": {
   "codemirror_mode": {
    "name": "ipython",
    "version": 3
   },
   "file_extension": ".py",
   "mimetype": "text/x-python",
   "name": "python",
   "nbconvert_exporter": "python",
   "pygments_lexer": "ipython3",
   "version": "3.11.7"
  }
 },
 "nbformat": 4,
 "nbformat_minor": 5
}
